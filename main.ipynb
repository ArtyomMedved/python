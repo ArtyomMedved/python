{
 "cells": [
  {
   "cell_type": "markdown",
   "id": "1080d132",
   "metadata": {},
   "source": [
    "Python - Полный Курс по Python 15 ЧАСОВ"
   ]
  },
  {
   "cell_type": "markdown",
   "id": "e50d0877",
   "metadata": {},
   "source": [
    "Python - объектно-ориентированный язык программирования\n",
    "\n",
    "Главная идея:\n",
    "Все сущности в python - объекты\n",
    "Объект - экземпляр класса\n",
    "Класс - шаблон или прототип для создания объектов\n",
    "На основании 1 класса можно создать много объектов\n",
    "У каждого объекта есть атрибуты\n",
    "Атрибут объекта называется методом, если его значение - функция"
   ]
  },
  {
   "cell_type": "markdown",
   "id": "0a447e6b",
   "metadata": {},
   "source": [
    "Основные типы:"
   ]
  },
  {
   "cell_type": "markdown",
   "id": "a91afb9b",
   "metadata": {},
   "source": [
    "Строка:\n",
    "str 'Artyom'\n",
    "\n",
    "Целое число:\n",
    "int 10\n",
    "\n",
    "Логический тип (Есть только 2 логических значения: True False):\n",
    "bool True\n",
    "\n",
    "Список:\n",
    "list [1, 2, 3]\n",
    "\n",
    "Словари:\n",
    "dict {'min': 5, 'max': 8}\n",
    "\n",
    "Отличие словаря от списка: у словаря есть ключ значений: 'min' = 5\n",
    "И в словарях и в списках может быть любое количество элементов."
   ]
  },
  {
   "cell_type": "markdown",
   "id": "77eb12c4",
   "metadata": {},
   "source": [
    "Встроенные функции:"
   ]
  },
  {
   "cell_type": "markdown",
   "id": "de911570",
   "metadata": {},
   "source": [
    "        Вызов фун-ии\n",
    "             |\n",
    "       ____________\n",
    "      |            |\n",
    "print(\"Hello World\")         \n",
    " ^          ^      \n",
    " |          |\n",
    " |         значение типа str\n",
    " Встроенная фун-ия"
   ]
  },
  {
   "cell_type": "code",
   "execution_count": null,
   "id": "9b0c328f",
   "metadata": {},
   "outputs": [],
   "source": [
    "print(\"Hello World\") "
   ]
  },
  {
   "cell_type": "markdown",
   "id": "b82f6e5a",
   "metadata": {},
   "source": [
    "Функция:"
   ]
  },
  {
   "cell_type": "markdown",
   "id": "0c2a86cf",
   "metadata": {},
   "source": [
    "      Имя    параметры\n",
    "      |      | \n",
    "def my_fn (a, b):\n",
    "   ------------\n",
    "   |a = a + 1 |\n",
    "   |c = a + b |<----- Тело функции\n",
    "   |return c  |\n",
    "   -----------\n",
    "\n",
    "Функция вызывается -> в функцию передаются аргументы -> функция выполняет свою работу -> возвращает результат return c"
   ]
  },
  {
   "cell_type": "markdown",
   "id": "4e16bf2c",
   "metadata": {},
   "source": [
    "Основные встроенные функции:"
   ]
  },
  {
   "cell_type": "markdown",
   "id": "2b1ffb37",
   "metadata": {},
   "source": [
    "print()— Выводит переданные объекты в стандартный поток вывода (обычно на экран)."
   ]
  },
  {
   "cell_type": "code",
   "execution_count": null,
   "id": "24ba85d3",
   "metadata": {},
   "outputs": [],
   "source": [
    "print(\"Hello, World!\")\n",
    "print(42)             "
   ]
  },
  {
   "cell_type": "markdown",
   "id": "41a6b3f3",
   "metadata": {},
   "source": [
    "type()— Возвращает тип переданного объекта."
   ]
  },
  {
   "cell_type": "code",
   "execution_count": null,
   "id": "6433d380",
   "metadata": {},
   "outputs": [],
   "source": [
    "print(type(10))         # <class 'int'>\n",
    "print(type(\"Text\"))     # <class 'str'>\n",
    "print(type([1, 2, 3]))  # <class 'list'>"
   ]
  },
  {
   "cell_type": "markdown",
   "id": "e7562f91",
   "metadata": {},
   "source": [
    "id()— Возвращает уникальный идентификатор (адрес в памяти) для объекта."
   ]
  },
  {
   "cell_type": "code",
   "execution_count": null,
   "id": "2d4be746",
   "metadata": {},
   "outputs": [],
   "source": [
    "x = [1, 2]\n",
    "print(id(x))  # 140245324 (у каждого запуска будет свое число)"
   ]
  },
  {
   "cell_type": "markdown",
   "id": "c1926974",
   "metadata": {},
   "source": [
    "len()— Возвращает длину (количество элементов) объекта."
   ]
  },
  {
   "cell_type": "code",
   "execution_count": null,
   "id": "5bd2e2ac",
   "metadata": {},
   "outputs": [],
   "source": [
    "print(len(\"Python\"))     # 6\n",
    "print(len([1, 2, 3]))    # 3\n",
    "print(len({\"a\": 1, \"b\": 2}))  # 2"
   ]
  },
  {
   "cell_type": "markdown",
   "id": "844d5b76",
   "metadata": {},
   "source": [
    "sum()— Возвращает сумму всех элементов в итерируемом объекте."
   ]
  },
  {
   "cell_type": "code",
   "execution_count": null,
   "id": "38eccdb8",
   "metadata": {},
   "outputs": [],
   "source": [
    "print(sum([1, 2, 3, 4]))    # 10\n",
    "print(sum((5, 10, 15)))     # 30"
   ]
  },
  {
   "cell_type": "markdown",
   "id": "a0cf3a8d",
   "metadata": {},
   "source": [
    "input()— Читает строку из входного потока (ввода пользователя)."
   ]
  },
  {
   "cell_type": "code",
   "execution_count": null,
   "id": "d090f71c",
   "metadata": {},
   "outputs": [],
   "source": [
    "name = input(\"Enter your name: \")\n",
    "\n",
    "print(name)"
   ]
  },
  {
   "cell_type": "markdown",
   "id": "ee95d430",
   "metadata": {},
   "source": [
    "round()— Округляет число до указанного количества знаков после запятой."
   ]
  },
  {
   "cell_type": "code",
   "execution_count": null,
   "id": "3adce4bf",
   "metadata": {},
   "outputs": [],
   "source": [
    "print(round(3.14159, 2))  # 3.14\n",
    "print(round(2.5))         # 2 (округление к четному)"
   ]
  },
  {
   "cell_type": "markdown",
   "id": "61fac4ba",
   "metadata": {},
   "source": [
    "min()— Возвращает наименьший элемент из переданных."
   ]
  },
  {
   "cell_type": "code",
   "execution_count": null,
   "id": "b3c4c97b",
   "metadata": {},
   "outputs": [],
   "source": [
    "print(min(5, 2, 8))      # 2\n",
    "print(min([10, 5, 20]))  # 5"
   ]
  },
  {
   "cell_type": "markdown",
   "id": "d46f18c2",
   "metadata": {},
   "source": [
    "max()— Возвращает наибольший элемент из переданных."
   ]
  },
  {
   "cell_type": "code",
   "execution_count": null,
   "id": "e89fe213",
   "metadata": {},
   "outputs": [],
   "source": [
    "print(max(5, 2, 8))      # 8\n",
    "print(max([10, 5, 20]))  # 20"
   ]
  },
  {
   "cell_type": "markdown",
   "id": "e2606cd8",
   "metadata": {},
   "source": [
    "int()— Преобразует значение в целое число."
   ]
  },
  {
   "cell_type": "code",
   "execution_count": null,
   "id": "105a079b",
   "metadata": {},
   "outputs": [],
   "source": [
    "print(int(\"123\"))     # 123\n",
    "print(int(3.99))      # 3 (дробная часть отбрасывается)"
   ]
  },
  {
   "cell_type": "markdown",
   "id": "07910cb5",
   "metadata": {},
   "source": [
    "str()— Преобразует значение в строку."
   ]
  },
  {
   "cell_type": "code",
   "execution_count": null,
   "id": "eb4f3d68",
   "metadata": {},
   "outputs": [],
   "source": [
    "print(str(100))       # \"100\"\n",
    "print(str(3.14))      # \"3.14\"\n",
    "print(str([1, 2]))    # \"[1, 2]\""
   ]
  },
  {
   "cell_type": "markdown",
   "id": "9eb2bb13",
   "metadata": {},
   "source": [
    "bool()— Преобразует значение в логический тип (True/False)."
   ]
  },
  {
   "cell_type": "code",
   "execution_count": null,
   "id": "25d955e6",
   "metadata": {},
   "outputs": [],
   "source": [
    "print(bool(1))        # True\n",
    "print(bool(0))        # False\n",
    "print(bool(\"\"))       # False (пустая строка)\n",
    "print(bool(\"Text\"))   # True (непустая строка)"
   ]
  },
  {
   "cell_type": "markdown",
   "id": "92ffa6dc",
   "metadata": {},
   "source": [
    "Функция dir и атрибуты объектов"
   ]
  },
  {
   "cell_type": "markdown",
   "id": "c4d34c79",
   "metadata": {},
   "source": [
    "Можно получить название всех атрибутов объекта\n",
    "\n",
    "name = 'Artyom'\n",
    "print(dir(name))\n",
    "       ^\n",
    "       |\n",
    "       функция dir отображает имена всех атрибутов объекта"
   ]
  },
  {
   "cell_type": "code",
   "execution_count": null,
   "id": "054f38f6",
   "metadata": {},
   "outputs": [],
   "source": [
    "name = 'Artyom'\n",
    "print(dir(name))"
   ]
  },
  {
   "cell_type": "code",
   "execution_count": null,
   "id": "c9544fbc",
   "metadata": {},
   "outputs": [],
   "source": [
    "print(dir())"
   ]
  },
  {
   "cell_type": "markdown",
   "id": "3f634f43",
   "metadata": {},
   "source": [
    "Как вызвать?\n",
    "\n",
    "print(name.upper())\n",
    "             ^\n",
    "             |\n",
    "             Метод (атрибут upper является функцией)"
   ]
  },
  {
   "cell_type": "code",
   "execution_count": null,
   "id": "e282efcf",
   "metadata": {},
   "outputs": [],
   "source": [
    "name = 'Artyom'\n",
    "\n",
    "print(name.upper())"
   ]
  },
  {
   "cell_type": "markdown",
   "id": "46800e79",
   "metadata": {},
   "source": [
    "Пример:"
   ]
  },
  {
   "cell_type": "code",
   "execution_count": null,
   "id": "2bf2733a",
   "metadata": {},
   "outputs": [],
   "source": [
    "name = input(\"Enter your name: \")\n",
    "\n",
    "print(name) # Выводит так как ты написал\n",
    "\n",
    "print(name.capitalize()) # Выводит строку с большой буквы (артем - Артем)\n",
    "\n",
    "print(name.casefold()) # Выводит строку так что все буквы будет с маленькой буквы (ArTyOm - artyom)"
   ]
  },
  {
   "cell_type": "markdown",
   "id": "dd5d00a4",
   "metadata": {},
   "source": [
    "Отступы"
   ]
  },
  {
   "cell_type": "markdown",
   "id": "dc58c600",
   "metadata": {},
   "source": [
    "Отступы играют важную роль! С помощью отступов python понимает где начниаетсч определенный блок кода"
   ]
  },
  {
   "cell_type": "code",
   "execution_count": 4,
   "id": "5fbe614e",
   "metadata": {},
   "outputs": [],
   "source": [
    "# корректный код\n",
    "def print_name_function(name):\n",
    "\tprint(name) # отступ в 4 проблема или 1 tab"
   ]
  },
  {
   "cell_type": "code",
   "execution_count": null,
   "id": "56222b43",
   "metadata": {},
   "outputs": [],
   "source": [
    "# некорректный код\n",
    "def print_name_function(name):\n",
    "print(name)"
   ]
  },
  {
   "cell_type": "markdown",
   "id": "d2570ca4",
   "metadata": {},
   "source": [
    "Пример:"
   ]
  },
  {
   "cell_type": "code",
   "execution_count": null,
   "id": "b06944fc",
   "metadata": {},
   "outputs": [],
   "source": [
    "def my_name(name):\n",
    "\tprint(name)\n",
    "\n",
    "my_name('Artyom')"
   ]
  },
  {
   "cell_type": "markdown",
   "id": "de9eb55b",
   "metadata": {},
   "source": [
    "Ошибочные примеры:"
   ]
  },
  {
   "cell_type": "code",
   "execution_count": null,
   "id": "6abea29d",
   "metadata": {},
   "outputs": [],
   "source": [
    "def my_name(name):\n",
    "\tprint(name)\n",
    "\tmy_name('Artyom')\n",
    "# Ничего не выведет т.к мы вызываем ф-ию my_name('Artyom') внутри самой ф-ии def my_name(name):"
   ]
  },
  {
   "cell_type": "code",
   "execution_count": null,
   "id": "e202fb0f",
   "metadata": {},
   "outputs": [],
   "source": [
    "def my_name(name):\n",
    "\tprint(name)\n",
    "\tmy_name('Artyom')\n",
    "\t\n",
    "my_name('Artyom')\n",
    "# Будет выводить бесконечное кол-во раз имя до появляения ошибки RecursionError:\n",
    "# которая означает что функция работает циклично и без остановки из-за ее вызова внутри нее"
   ]
  },
  {
   "cell_type": "markdown",
   "id": "de70093e",
   "metadata": {},
   "source": [
    "Форматирование кода в Python"
   ]
  },
  {
   "cell_type": "markdown",
   "id": "bfe6fbc4",
   "metadata": {},
   "source": [
    "Существуют определенные документы, которые регламентируют то, как следует писать код.\n",
    "Один из таких документов PEP8 (Python enhancement proposal).\n",
    "\n",
    "ссылка: https://peps.python.org/pep-0008/\n",
    "\n",
    "PEP8 - Документ, описывающий рекомендации по написанию кода Python.\n",
    "\n",
    "Некоторые выдержки из PEP8:\n",
    "\n",
    "1) Для отступов использовать пробелы, а не Tab\n",
    "2) Длинна строк должна быть не более 79 символов ( если больше - необходимо разбивать на несколько строк)\n",
    "3) Функции и классы должны быть отделены от других строк кода двумя пустыми строками\n",
    "4) Импорты модулей должны быть на отдельных строках\n",
    "5) Комментарии в конце строки кода должны отделяться по крайней мере двумя пробелами"
   ]
  },
  {
   "cell_type": "markdown",
   "id": "c05df75c",
   "metadata": {},
   "source": [
    "Пример некорректного кода:"
   ]
  },
  {
   "cell_type": "code",
   "execution_count": null,
   "id": "86c7d8b5",
   "metadata": {},
   "outputs": [],
   "source": [
    "my_list =    [1, 2, 3   ]\n",
    "print(   my_list)\n",
    "\n",
    "# код запуститься и выдаст ответ, но по читабельности и красоте такой код будет непонятен тебе или другим людям."
   ]
  },
  {
   "cell_type": "markdown",
   "id": "ba4d2e7e",
   "metadata": {},
   "source": [
    "Чтобы автоматически отредактировать код в читабельный по регламентам PEP8, можно воспользоваться плагнином autopep8.\n",
    "ссылка: https://marketplace.visualstudio.com/items?itemName=ms-python.autopep8\n",
    "\n",
    "Он вызывается следующим образом:\n",
    "\n",
    "1) ctrl + shift + p (Windows)\n",
    "   command + shift + p (Mac Os)\n",
    "2) В поиске пишем: Format Document With...\n",
    "3) Выбираем: autopep8"
   ]
  },
  {
   "cell_type": "markdown",
   "id": "07516e3a",
   "metadata": {},
   "source": [
    "Вот как теперь выглядит код:"
   ]
  },
  {
   "cell_type": "code",
   "execution_count": null,
   "id": "cd66768d",
   "metadata": {},
   "outputs": [],
   "source": [
    "my_list = [1, 2, 3]\n",
    "print(my_list)"
   ]
  },
  {
   "cell_type": "markdown",
   "id": "7f4a2155",
   "metadata": {},
   "source": [
    "Еще один пример:"
   ]
  },
  {
   "cell_type": "code",
   "execution_count": null,
   "id": "7d5533f9",
   "metadata": {},
   "outputs": [],
   "source": [
    "\n",
    "a = 10\n",
    "def my_fn():\n",
    "\tprint(\"Hello\")\n",
    "\n",
    "print(\"Artyom\")"
   ]
  },
  {
   "cell_type": "markdown",
   "id": "f74bb13f",
   "metadata": {},
   "source": [
    "Программа сработает но по регламентам PEP8 структурирована не правильно и при использовании autopep8 или default formation (который можно включить чтобы срабатывал при сохранении) код будет иметь такую структуру:"
   ]
  },
  {
   "cell_type": "code",
   "execution_count": null,
   "id": "e44fc43e",
   "metadata": {},
   "outputs": [],
   "source": [
    "\n",
    "a = 10\n",
    "\n",
    "  \n",
    "def my_fn():\n",
    "\tprint(\"Hello\")\n",
    "\n",
    "\n",
    "print(\"Artyom\")"
   ]
  },
  {
   "cell_type": "markdown",
   "id": "7c5c3cad",
   "metadata": {},
   "source": [
    "Комментарии"
   ]
  },
  {
   "cell_type": "markdown",
   "id": "a6043465",
   "metadata": {},
   "source": [
    "Python игнорирует комментарии (это сделано для разработчиков с целью сделать себе заметку или временно убрать ненужную часть кода без полного удаления)\n",
    "\n",
    "Какие комментарии бывают?"
   ]
  },
  {
   "cell_type": "code",
   "execution_count": null,
   "id": "00396fa2",
   "metadata": {},
   "outputs": [],
   "source": [
    "# Комментарий\n",
    "\n",
    "# Многострочный\n",
    "# комментарий\n",
    "\n",
    "print(10) # Код с комментарием\n",
    "\n",
    "\"\"\"Такой комментарий используется в функция для описания того что эта ф-ия делает\"\"\""
   ]
  },
  {
   "cell_type": "markdown",
   "id": "c5cae941",
   "metadata": {},
   "source": [
    "Чтобы автоматически закомментировать или разкомментировать несколько строк кода, можно воспользоваться комбинацией:\n",
    "Control + / (Windows)\n",
    "Command + / (Mac OS)"
   ]
  },
  {
   "cell_type": "markdown",
   "id": "795abce7",
   "metadata": {},
   "source": [
    "Обзор функций"
   ]
  },
  {
   "cell_type": "markdown",
   "id": "f95874c6",
   "metadata": {},
   "source": [
    "Функция объявляется используя ключевое слово def (defenition) далее имя функции.\n",
    "def hello():\n",
    "После : начинается блок функции ( 4 пробела! )."
   ]
  },
  {
   "cell_type": "code",
   "execution_count": null,
   "id": "c8f40dbd",
   "metadata": {},
   "outputs": [],
   "source": [
    "def hello():\n",
    "\tprint(\"Hello there!\")"
   ]
  },
  {
   "cell_type": "markdown",
   "id": "15f0e187",
   "metadata": {},
   "source": [
    "При запуске такого кода мы ничего не видим, потому что мы ее не вызвали.\n",
    "Для вызова функции требуется написать ее имя и ()."
   ]
  },
  {
   "cell_type": "code",
   "execution_count": null,
   "id": "d2085a8c",
   "metadata": {},
   "outputs": [],
   "source": [
    "def hello():\n",
    "\tprint(\"Hello there!\")\n",
    "\t\n",
    "hello()"
   ]
  },
  {
   "cell_type": "markdown",
   "id": "1bf33993",
   "metadata": {},
   "source": [
    "Если мы напишем так:"
   ]
  },
  {
   "cell_type": "code",
   "execution_count": null,
   "id": "4ebc51c1",
   "metadata": {},
   "outputs": [],
   "source": [
    "def hello():\n",
    "\tprint(\"Hello there!\")\n",
    "\t\n",
    "print(\"Outside of the fn\")\n",
    "\t\n",
    "hello()"
   ]
  },
  {
   "cell_type": "markdown",
   "id": "340bc226",
   "metadata": {},
   "source": [
    "То при запуске получим:\n",
    "\n",
    "```\n",
    "Outside of the fn\n",
    "\n",
    "Hello there!\n",
    "```\n",
    "\n",
    "- Почему?\n",
    "- Потому что вызов функции print(\"Outside of the fn\") не находится в зоне действия функции def hello():"
   ]
  },
  {
   "cell_type": "markdown",
   "id": "e56a7b08",
   "metadata": {},
   "source": [
    "Теперь добавим параметры в функции def <your_name_fn>():\n",
    "Они добавляются внутри ()\n",
    "Параметр внутри функции можно считать как за переменную, которая доступна внутри функции и само значение этой переменной задается в момент вызова функции.\n",
    "\n",
    "Пример:"
   ]
  },
  {
   "cell_type": "code",
   "execution_count": null,
   "id": "d1fad3f9",
   "metadata": {},
   "outputs": [],
   "source": [
    "def hello(name): # name - переменная которая получит аргумент при вызове самой функции\n",
    "\tprint(\"Hello there,\", name)\n",
    "\n",
    "hello('Artyom') # вызываем функцию с присваиванием аргумента для переменной name внутри функции def\n",
    "hello('Adam') # вызов той же функции не зависит от прошлого вызова"
   ]
  },
  {
   "cell_type": "markdown",
   "id": "5b17ac80",
   "metadata": {},
   "source": [
    "Меняя аргументы мы можем повлиять на то как вызывается функция. В каждом вызове у нас значение для параметра name может быть новым.\n",
    "Стоить учесть, что параметр name в функции def hello(name): не будет доступна вне функции! Он доступен только в теле функции."
   ]
  },
  {
   "cell_type": "markdown",
   "id": "912e6b8f",
   "metadata": {},
   "source": [
    "Практические примеры:"
   ]
  },
  {
   "cell_type": "code",
   "execution_count": null,
   "id": "6d47ee94",
   "metadata": {},
   "outputs": [],
   "source": [
    "def sum_nums(a, b):\n",
    "\tsum = a + b\n",
    "\tprint(sum)\n",
    "\t\n",
    "# print(a) # не можем вызывать переменную a т.к она является внутренним параметром функции def\n",
    "\t\n",
    "sum_nums(10, 5) # т.к в функции sum_nums мы используем два параметра a и b => что при вызове функции нужно вписать 2 аргумента\n",
    "sum_nums(50.5, 20)"
   ]
  },
  {
   "cell_type": "code",
   "execution_count": null,
   "id": "e4657e39",
   "metadata": {},
   "outputs": [],
   "source": [
    "def sum_nums(a, b):\n",
    "\tsum = a + b\n",
    "\treturn sum # теперь функция sum_nums возращает значение как результат работы\n",
    "\tprint(\"Line is not executed\") # не будет отображаться т.к после return ф-ия прекращает свою работу\n",
    "\n",
    "  \n",
    "first_sum = sum_nums(10, 5) # присваиваем вызову функции переменную для сохранения значения\n",
    "print(first_sum)\n",
    "\n",
    "print(sum_nums(50.5, 20)) # можем не присваивать переменную, а сразу выводить результат в терминал\n",
    "\n",
    "print(sum_nums(sum_nums(50.5, 20), 30)) \n",
    "# в данном случае мы несколько раз вызываем функцию: \n",
    "# 1) выполняет sum_nums(50.5, 20) \n",
    "# 2) выполняет sum_nums(<значение, получанное из sum_nums(50.5, 20)> значния 30)\n",
    "# 3) выводит ответ"
   ]
  },
  {
   "cell_type": "markdown",
   "id": "d7089c3b",
   "metadata": {},
   "source": [
    "Выражения"
   ]
  },
  {
   "cell_type": "markdown",
   "id": "97349ab2",
   "metadata": {},
   "source": [
    "Результатом выражения является значение.\n",
    "В выражениях находится 1 или несколько операторов (+, or, in...).\n",
    "Результат выражения можно использовать в вызове ф-ии либо чтобы присовить результат другой перменной."
   ]
  },
  {
   "cell_type": "code",
   "execution_count": null,
   "id": "ef913fe2",
   "metadata": {},
   "outputs": [],
   "source": [
    "5 + 3 # Сумма значений"
   ]
  },
  {
   "cell_type": "code",
   "execution_count": null,
   "id": "72231a5d",
   "metadata": {},
   "outputs": [],
   "source": [
    "a = 3\n",
    "b = 1\n",
    "\n",
    "a > b # True или False"
   ]
  },
  {
   "cell_type": "code",
   "execution_count": null,
   "id": "c4b0ce7c",
   "metadata": {},
   "outputs": [],
   "source": [
    "'Hello ' + 'World' # 'Hello World'"
   ]
  },
  {
   "cell_type": "code",
   "execution_count": null,
   "id": "c2233fff",
   "metadata": {},
   "outputs": [],
   "source": [
    "def my_func(a, b):\n",
    "\tsum = a + b\n",
    "\tprint(sum)\n",
    "\n",
    "my_func(10, 5) # Результат ф-ии. Вызов ф-ии это и есть выражение"
   ]
  },
  {
   "cell_type": "markdown",
   "id": "f71d2bcf",
   "metadata": {},
   "source": [
    "Инструкции "
   ]
  }
 ],
 "metadata": {
  "kernelspec": {
   "display_name": "3.11.9",
   "language": "python",
   "name": "python3"
  },
  "language_info": {
   "codemirror_mode": {
    "name": "ipython",
    "version": 3
   },
   "file_extension": ".py",
   "mimetype": "text/x-python",
   "name": "python",
   "nbconvert_exporter": "python",
   "pygments_lexer": "ipython3",
   "version": "3.11.9"
  }
 },
 "nbformat": 4,
 "nbformat_minor": 5
}
