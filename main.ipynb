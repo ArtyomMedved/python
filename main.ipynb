{
 "cells": [
  {
   "cell_type": "markdown",
   "id": "1080d132",
   "metadata": {},
   "source": [
    "# Python - Полный Курс по Python [15 ЧАСОВ]"
   ]
  },
  {
   "cell_type": "markdown",
   "id": "c4a555ac",
   "metadata": {},
   "source": [
    "### 1) Python - объектно-ориентированный язык программирования"
   ]
  },
  {
   "cell_type": "markdown",
   "id": "e50d0877",
   "metadata": {},
   "source": [
    "Главная идея:\n",
    "\n",
    "Все сущности в python - объекты\n",
    "\n",
    "Объект - экземпляр класса\n",
    "\n",
    "Класс - шаблон или прототип для создания объектов\n",
    "\n",
    "На основании 1 класса можно создать много объектов\n",
    "\n",
    "У каждого объекта есть атрибуты\n",
    "\n",
    "Атрибут объекта называется методом, если его значение - функция"
   ]
  },
  {
   "cell_type": "markdown",
   "id": "0a447e6b",
   "metadata": {},
   "source": [
    "### 2) Основные типы"
   ]
  },
  {
   "cell_type": "markdown",
   "id": "a91afb9b",
   "metadata": {},
   "source": [
    "Строка:\n",
    "`str 'Artyom'`\n",
    "\n",
    "Целое число:\n",
    "`int 10`\n",
    "\n",
    "Логический тип (Есть только 2 логических значения: True False):\n",
    "`bool True`\n",
    "\n",
    "Список:\n",
    "`list [1, 2, 3]`\n",
    "\n",
    "Словари:\n",
    "`dict {'min': 5, 'max': 8}`\n",
    "\n",
    "Отличие словаря от списка: у словаря есть ключ значений: `'min' = 5`\n",
    "\n",
    "И в словарях и в списках может быть любое количество элементов."
   ]
  },
  {
   "cell_type": "markdown",
   "id": "77eb12c4",
   "metadata": {},
   "source": [
    "### 3) Встроенные функции"
   ]
  },
  {
   "cell_type": "markdown",
   "id": "de911570",
   "metadata": {},
   "source": [
    "```text  \n",
    "      Вызов фун-ии\n",
    "             |\n",
    "       ____________\n",
    "      |            |\n",
    "print(\"Hello World\")         \n",
    " ^          ^      \n",
    " |          |\n",
    " |         значение типа str\n",
    " Встроенная фун-ия\n",
    " ```"
   ]
  },
  {
   "cell_type": "code",
   "execution_count": null,
   "id": "9b0c328f",
   "metadata": {},
   "outputs": [],
   "source": [
    "print(\"Hello World\") "
   ]
  },
  {
   "cell_type": "markdown",
   "id": "b82f6e5a",
   "metadata": {},
   "source": [
    "### 4) Функция"
   ]
  },
  {
   "cell_type": "markdown",
   "id": "0c2a86cf",
   "metadata": {},
   "source": [
    "```text\n",
    "      Имя    параметры\n",
    "      |      | \n",
    "def my_fn (a, b):\n",
    "   ------------\n",
    "   |a = a + 1 |\n",
    "   |c = a + b |<----- Тело функции\n",
    "   |return c  |\n",
    "   -----------\n",
    "```\n",
    "\n",
    "Функция вызывается -> в функцию передаются аргументы -> функция выполняет свою работу -> возвращает результат return c"
   ]
  },
  {
   "cell_type": "markdown",
   "id": "4e16bf2c",
   "metadata": {},
   "source": [
    "**Основные встроенные функции:**"
   ]
  },
  {
   "cell_type": "markdown",
   "id": "2b1ffb37",
   "metadata": {},
   "source": [
    "print()— Выводит переданные объекты в стандартный поток вывода (обычно на экран)."
   ]
  },
  {
   "cell_type": "code",
   "execution_count": null,
   "id": "24ba85d3",
   "metadata": {},
   "outputs": [],
   "source": [
    "print(\"Hello, World!\")\n",
    "print(42)             "
   ]
  },
  {
   "cell_type": "markdown",
   "id": "41a6b3f3",
   "metadata": {},
   "source": [
    "type()— Возвращает тип переданного объекта."
   ]
  },
  {
   "cell_type": "code",
   "execution_count": null,
   "id": "6433d380",
   "metadata": {},
   "outputs": [],
   "source": [
    "print(type(10))         # <class 'int'>\n",
    "print(type(\"Text\"))     # <class 'str'>\n",
    "print(type([1, 2, 3]))  # <class 'list'>"
   ]
  },
  {
   "cell_type": "markdown",
   "id": "e7562f91",
   "metadata": {},
   "source": [
    "id()— Возвращает уникальный идентификатор (адрес в памяти) для объекта."
   ]
  },
  {
   "cell_type": "code",
   "execution_count": null,
   "id": "2d4be746",
   "metadata": {},
   "outputs": [],
   "source": [
    "x = [1, 2]\n",
    "print(id(x))  # 140245324 (у каждого запуска будет свое число)"
   ]
  },
  {
   "cell_type": "markdown",
   "id": "c1926974",
   "metadata": {},
   "source": [
    "len()— Возвращает длину (количество элементов) объекта."
   ]
  },
  {
   "cell_type": "code",
   "execution_count": null,
   "id": "5bd2e2ac",
   "metadata": {},
   "outputs": [],
   "source": [
    "print(len(\"Python\"))     # 6\n",
    "print(len([1, 2, 3]))    # 3\n",
    "print(len({\"a\": 1, \"b\": 2}))  # 2"
   ]
  },
  {
   "cell_type": "markdown",
   "id": "844d5b76",
   "metadata": {},
   "source": [
    "sum()— Возвращает сумму всех элементов в итерируемом объекте."
   ]
  },
  {
   "cell_type": "code",
   "execution_count": null,
   "id": "38eccdb8",
   "metadata": {},
   "outputs": [],
   "source": [
    "print(sum([1, 2, 3, 4]))    # 10\n",
    "print(sum((5, 10, 15)))     # 30"
   ]
  },
  {
   "cell_type": "markdown",
   "id": "a0cf3a8d",
   "metadata": {},
   "source": [
    "input()— Читает строку из входного потока (ввода пользователя)."
   ]
  },
  {
   "cell_type": "code",
   "execution_count": null,
   "id": "d090f71c",
   "metadata": {},
   "outputs": [],
   "source": [
    "name = input(\"Enter your name: \")\n",
    "\n",
    "print(name)"
   ]
  },
  {
   "cell_type": "markdown",
   "id": "ee95d430",
   "metadata": {},
   "source": [
    "round()— Округляет число до указанного количества знаков после запятой."
   ]
  },
  {
   "cell_type": "code",
   "execution_count": null,
   "id": "3adce4bf",
   "metadata": {},
   "outputs": [],
   "source": [
    "print(round(3.14159, 2))  # 3.14\n",
    "print(round(2.5))         # 2 (округление к четному)"
   ]
  },
  {
   "cell_type": "markdown",
   "id": "61fac4ba",
   "metadata": {},
   "source": [
    "min()— Возвращает наименьший элемент из переданных."
   ]
  },
  {
   "cell_type": "code",
   "execution_count": null,
   "id": "b3c4c97b",
   "metadata": {},
   "outputs": [],
   "source": [
    "print(min(5, 2, 8))      # 2\n",
    "print(min([10, 5, 20]))  # 5"
   ]
  },
  {
   "cell_type": "markdown",
   "id": "d46f18c2",
   "metadata": {},
   "source": [
    "max()— Возвращает наибольший элемент из переданных."
   ]
  },
  {
   "cell_type": "code",
   "execution_count": null,
   "id": "e89fe213",
   "metadata": {},
   "outputs": [],
   "source": [
    "print(max(5, 2, 8))      # 8\n",
    "print(max([10, 5, 20]))  # 20"
   ]
  },
  {
   "cell_type": "markdown",
   "id": "e2606cd8",
   "metadata": {},
   "source": [
    "int()— Преобразует значение в целое число."
   ]
  },
  {
   "cell_type": "code",
   "execution_count": null,
   "id": "105a079b",
   "metadata": {},
   "outputs": [],
   "source": [
    "print(int(\"123\"))     # 123\n",
    "print(int(3.99))      # 3 (дробная часть отбрасывается)"
   ]
  },
  {
   "cell_type": "markdown",
   "id": "07910cb5",
   "metadata": {},
   "source": [
    "str()— Преобразует значение в строку."
   ]
  },
  {
   "cell_type": "code",
   "execution_count": null,
   "id": "eb4f3d68",
   "metadata": {},
   "outputs": [],
   "source": [
    "print(str(100))       # \"100\"\n",
    "print(str(3.14))      # \"3.14\"\n",
    "print(str([1, 2]))    # \"[1, 2]\""
   ]
  },
  {
   "cell_type": "markdown",
   "id": "9eb2bb13",
   "metadata": {},
   "source": [
    "bool()— Преобразует значение в логический тип (True/False)."
   ]
  },
  {
   "cell_type": "code",
   "execution_count": null,
   "id": "25d955e6",
   "metadata": {},
   "outputs": [],
   "source": [
    "print(bool(1))        # True\n",
    "print(bool(0))        # False\n",
    "print(bool(\"\"))       # False (пустая строка)\n",
    "print(bool(\"Text\"))   # True (непустая строка)"
   ]
  },
  {
   "cell_type": "markdown",
   "id": "92ffa6dc",
   "metadata": {},
   "source": [
    "### 5) Функция dir и атрибуты объектов"
   ]
  },
  {
   "cell_type": "markdown",
   "id": "c4d34c79",
   "metadata": {},
   "source": [
    "Можно получить название всех атрибутов объекта\n",
    "\n",
    "```text\n",
    "name = 'Artyom'\n",
    "print(dir(name))\n",
    "       ^\n",
    "       |\n",
    "       функция dir отображает имена всех атрибутов объекта\n",
    "```"
   ]
  },
  {
   "cell_type": "code",
   "execution_count": null,
   "id": "054f38f6",
   "metadata": {},
   "outputs": [],
   "source": [
    "name = 'Artyom'\n",
    "print(dir(name))"
   ]
  },
  {
   "cell_type": "code",
   "execution_count": null,
   "id": "c9544fbc",
   "metadata": {},
   "outputs": [],
   "source": [
    "print(dir())"
   ]
  },
  {
   "cell_type": "markdown",
   "id": "3f634f43",
   "metadata": {},
   "source": [
    "Как вызвать?\n",
    "\n",
    "```text\n",
    "print(name.upper())\n",
    "             ^\n",
    "             |\n",
    "             Метод (атрибут upper является функцией)\n",
    "```"
   ]
  },
  {
   "cell_type": "code",
   "execution_count": null,
   "id": "e282efcf",
   "metadata": {},
   "outputs": [],
   "source": [
    "name = 'Artyom'\n",
    "\n",
    "print(name.upper())"
   ]
  },
  {
   "cell_type": "markdown",
   "id": "46800e79",
   "metadata": {},
   "source": [
    "Пример:"
   ]
  },
  {
   "cell_type": "code",
   "execution_count": null,
   "id": "2bf2733a",
   "metadata": {},
   "outputs": [],
   "source": [
    "name = input(\"Enter your name: \")\n",
    "\n",
    "print(name) # Выводит так как ты написал\n",
    "\n",
    "print(name.capitalize()) # Выводит строку с большой буквы (артем - Артем)\n",
    "\n",
    "print(name.casefold()) # Выводит строку так что все буквы будет с маленькой буквы (ArTyOm - artyom)"
   ]
  },
  {
   "cell_type": "markdown",
   "id": "dd5d00a4",
   "metadata": {},
   "source": [
    "### 6) Отступы"
   ]
  },
  {
   "cell_type": "markdown",
   "id": "dc58c600",
   "metadata": {},
   "source": [
    "Отступы играют важную роль! С помощью отступов python понимает где начниаетсч определенный блок кода"
   ]
  },
  {
   "cell_type": "code",
   "execution_count": 4,
   "id": "5fbe614e",
   "metadata": {},
   "outputs": [],
   "source": [
    "# корректный код\n",
    "def print_name_function(name):\n",
    "\tprint(name) # отступ в 4 проблема или 1 tab"
   ]
  },
  {
   "cell_type": "code",
   "execution_count": null,
   "id": "56222b43",
   "metadata": {},
   "outputs": [],
   "source": [
    "# некорректный код\n",
    "def print_name_function(name):\n",
    "print(name)"
   ]
  },
  {
   "cell_type": "markdown",
   "id": "d2570ca4",
   "metadata": {},
   "source": [
    "Пример:"
   ]
  },
  {
   "cell_type": "code",
   "execution_count": null,
   "id": "b06944fc",
   "metadata": {},
   "outputs": [],
   "source": [
    "def my_name(name):\n",
    "\tprint(name)\n",
    "\n",
    "my_name('Artyom')"
   ]
  },
  {
   "cell_type": "markdown",
   "id": "de9eb55b",
   "metadata": {},
   "source": [
    "Ошибочные примеры:"
   ]
  },
  {
   "cell_type": "code",
   "execution_count": null,
   "id": "6abea29d",
   "metadata": {},
   "outputs": [],
   "source": [
    "def my_name(name):\n",
    "\tprint(name)\n",
    "\tmy_name('Artyom')\n",
    "# Ничего не выведет т.к мы вызываем ф-ию my_name('Artyom') внутри самой ф-ии def my_name(name):"
   ]
  },
  {
   "cell_type": "code",
   "execution_count": null,
   "id": "e202fb0f",
   "metadata": {},
   "outputs": [],
   "source": [
    "def my_name(name):\n",
    "\tprint(name)\n",
    "\tmy_name('Artyom')\n",
    "\t\n",
    "my_name('Artyom')\n",
    "# Будет выводить бесконечное кол-во раз имя до появляения ошибки RecursionError:\n",
    "# которая означает что функция работает циклично и без остановки из-за ее вызова внутри нее"
   ]
  },
  {
   "cell_type": "markdown",
   "id": "de70093e",
   "metadata": {},
   "source": [
    "### 7) Форматирование кода в Python"
   ]
  },
  {
   "cell_type": "markdown",
   "id": "bfe6fbc4",
   "metadata": {},
   "source": [
    "Существуют определенные документы, которые регламентируют то, как следует писать код.\n",
    "Один из таких документов PEP8 (Python enhancement proposal).\n",
    "\n",
    "ссылка: https://peps.python.org/pep-0008/\n",
    "\n",
    "PEP8 - Документ, описывающий рекомендации по написанию кода Python.\n",
    "\n",
    "Некоторые выдержки из PEP8:\n",
    "\n",
    "1) Для отступов использовать пробелы, а не Tab\n",
    "2) Длинна строк должна быть не более 79 символов ( если больше - необходимо разбивать на несколько строк)\n",
    "3) Функции и классы должны быть отделены от других строк кода двумя пустыми строками\n",
    "4) Импорты модулей должны быть на отдельных строках\n",
    "5) Комментарии в конце строки кода должны отделяться по крайней мере двумя пробелами"
   ]
  },
  {
   "cell_type": "markdown",
   "id": "c05df75c",
   "metadata": {},
   "source": [
    "Пример некорректного кода:"
   ]
  },
  {
   "cell_type": "code",
   "execution_count": null,
   "id": "86c7d8b5",
   "metadata": {},
   "outputs": [],
   "source": [
    "my_list =    [1, 2, 3   ]\n",
    "print(   my_list)\n",
    "\n",
    "# код запуститься и выдаст ответ, но по читабельности и красоте такой код будет непонятен тебе или другим людям."
   ]
  },
  {
   "cell_type": "markdown",
   "id": "ba4d2e7e",
   "metadata": {},
   "source": [
    "Чтобы автоматически отредактировать код в читабельный по регламентам PEP8, можно воспользоваться плагнином autopep8.\n",
    "ссылка: https://marketplace.visualstudio.com/items?itemName=ms-python.autopep8\n",
    "\n",
    "Он вызывается следующим образом:\n",
    "\n",
    "1) ctrl + shift + p (Windows)\n",
    "   command + shift + p (Mac Os)\n",
    "2) В поиске пишем: Format Document With...\n",
    "3) Выбираем: autopep8"
   ]
  },
  {
   "cell_type": "markdown",
   "id": "07516e3a",
   "metadata": {},
   "source": [
    "Вот как теперь выглядит код:"
   ]
  },
  {
   "cell_type": "code",
   "execution_count": null,
   "id": "cd66768d",
   "metadata": {},
   "outputs": [],
   "source": [
    "my_list = [1, 2, 3]\n",
    "print(my_list)"
   ]
  },
  {
   "cell_type": "markdown",
   "id": "7f4a2155",
   "metadata": {},
   "source": [
    "Еще один пример:"
   ]
  },
  {
   "cell_type": "code",
   "execution_count": null,
   "id": "7d5533f9",
   "metadata": {},
   "outputs": [],
   "source": [
    "\n",
    "a = 10\n",
    "def my_fn():\n",
    "\tprint(\"Hello\")\n",
    "\n",
    "print(\"Artyom\")"
   ]
  },
  {
   "cell_type": "markdown",
   "id": "f74bb13f",
   "metadata": {},
   "source": [
    "Программа сработает но по регламентам PEP8 структурирована не правильно и при использовании autopep8 или default formation (который можно включить чтобы срабатывал при сохранении) код будет иметь такую структуру:"
   ]
  },
  {
   "cell_type": "code",
   "execution_count": null,
   "id": "e44fc43e",
   "metadata": {},
   "outputs": [],
   "source": [
    "\n",
    "a = 10\n",
    "\n",
    "  \n",
    "def my_fn():\n",
    "\tprint(\"Hello\")\n",
    "\n",
    "\n",
    "print(\"Artyom\")"
   ]
  },
  {
   "cell_type": "markdown",
   "id": "7c5c3cad",
   "metadata": {},
   "source": [
    "### 8) Комментарии"
   ]
  },
  {
   "cell_type": "markdown",
   "id": "a6043465",
   "metadata": {},
   "source": [
    "Python игнорирует комментарии (это сделано для разработчиков с целью сделать себе заметку или временно убрать ненужную часть кода без полного удаления)\n",
    "\n",
    "Какие комментарии бывают?"
   ]
  },
  {
   "cell_type": "code",
   "execution_count": null,
   "id": "00396fa2",
   "metadata": {},
   "outputs": [],
   "source": [
    "# Комментарий\n",
    "\n",
    "# Многострочный\n",
    "# комментарий\n",
    "\n",
    "print(10) # Код с комментарием\n",
    "\n",
    "\"\"\"Такой комментарий используется в функция для описания того что эта ф-ия делает\"\"\""
   ]
  },
  {
   "cell_type": "markdown",
   "id": "c5cae941",
   "metadata": {},
   "source": [
    "Чтобы автоматически закомментировать или разкомментировать несколько строк кода, можно воспользоваться комбинацией:\n",
    "```text\n",
    "Control + / (Windows)\n",
    "\n",
    "Command + / (Mac OS)\n",
    "```"
   ]
  },
  {
   "cell_type": "markdown",
   "id": "795abce7",
   "metadata": {},
   "source": [
    "### 9) Обзор функций"
   ]
  },
  {
   "cell_type": "markdown",
   "id": "f95874c6",
   "metadata": {},
   "source": [
    "Функция объявляется используя ключевое слово def (defenition) далее имя функции.\n",
    "def hello():\n",
    "После : начинается блок функции ( 4 пробела! )."
   ]
  },
  {
   "cell_type": "code",
   "execution_count": null,
   "id": "c8f40dbd",
   "metadata": {},
   "outputs": [],
   "source": [
    "def hello():\n",
    "\tprint(\"Hello there!\")"
   ]
  },
  {
   "cell_type": "markdown",
   "id": "15f0e187",
   "metadata": {},
   "source": [
    "При запуске такого кода мы ничего не видим, потому что мы ее не вызвали.\n",
    "Для вызова функции требуется написать ее имя и ()."
   ]
  },
  {
   "cell_type": "code",
   "execution_count": null,
   "id": "d2085a8c",
   "metadata": {},
   "outputs": [],
   "source": [
    "def hello():\n",
    "\tprint(\"Hello there!\")\n",
    "\t\n",
    "hello()"
   ]
  },
  {
   "cell_type": "markdown",
   "id": "1bf33993",
   "metadata": {},
   "source": [
    "Если мы напишем так:"
   ]
  },
  {
   "cell_type": "code",
   "execution_count": null,
   "id": "4ebc51c1",
   "metadata": {},
   "outputs": [],
   "source": [
    "def hello():\n",
    "\tprint(\"Hello there!\")\n",
    "\t\n",
    "print(\"Outside of the fn\")\n",
    "\t\n",
    "hello()"
   ]
  },
  {
   "cell_type": "markdown",
   "id": "340bc226",
   "metadata": {},
   "source": [
    "То при запуске получим:\n",
    "\n",
    "```log\n",
    "Outside of the fn\n",
    "Hello there!\n",
    "```\n",
    "Почему? - Потому что вызов функции print(\"Outside of the fn\") не находится в зоне действия функции def hello():"
   ]
  },
  {
   "cell_type": "markdown",
   "id": "e56a7b08",
   "metadata": {},
   "source": [
    "Теперь добавим параметры в функции def <your_name_fn>():\n",
    "Они добавляются внутри ()\n",
    "Параметр внутри функции можно считать как за переменную, которая доступна внутри функции и само значение этой переменной задается в момент вызова функции.\n",
    "\n",
    "Пример:"
   ]
  },
  {
   "cell_type": "code",
   "execution_count": null,
   "id": "d1fad3f9",
   "metadata": {},
   "outputs": [],
   "source": [
    "def hello(name): # name - переменная которая получит аргумент при вызове самой функции\n",
    "\tprint(\"Hello there,\", name)\n",
    "\n",
    "hello('Artyom') # вызываем функцию с присваиванием аргумента для переменной name внутри функции def\n",
    "hello('Adam') # вызов той же функции не зависит от прошлого вызова"
   ]
  },
  {
   "cell_type": "markdown",
   "id": "5b17ac80",
   "metadata": {},
   "source": [
    "Меняя аргументы мы можем повлиять на то как вызывается функция. В каждом вызове у нас значение для параметра name может быть новым.\n",
    "Стоить учесть, что параметр name в функции def hello(name): не будет доступна вне функции! Он доступен только в теле функции."
   ]
  },
  {
   "cell_type": "markdown",
   "id": "912e6b8f",
   "metadata": {},
   "source": [
    "Практические примеры:"
   ]
  },
  {
   "cell_type": "code",
   "execution_count": null,
   "id": "6d47ee94",
   "metadata": {},
   "outputs": [],
   "source": [
    "def sum_nums(a, b):\n",
    "\tsum = a + b\n",
    "\tprint(sum)\n",
    "\t\n",
    "# print(a) # не можем вызывать переменную a т.к она является внутренним параметром функции def\n",
    "\t\n",
    "sum_nums(10, 5) # т.к в функции sum_nums мы используем два параметра a и b => что при вызове функции нужно вписать 2 аргумента\n",
    "sum_nums(50.5, 20)"
   ]
  },
  {
   "cell_type": "code",
   "execution_count": null,
   "id": "e4657e39",
   "metadata": {},
   "outputs": [],
   "source": [
    "def sum_nums(a, b):\n",
    "\tsum = a + b\n",
    "\treturn sum # теперь функция sum_nums возращает значение как результат работы\n",
    "\tprint(\"Line is not executed\") # не будет отображаться т.к после return ф-ия прекращает свою работу\n",
    "\n",
    "  \n",
    "first_sum = sum_nums(10, 5) # присваиваем вызову функции переменную для сохранения значения\n",
    "print(first_sum)\n",
    "\n",
    "print(sum_nums(50.5, 20)) # можем не присваивать переменную, а сразу выводить результат в терминал\n",
    "\n",
    "print(sum_nums(sum_nums(50.5, 20), 30)) \n",
    "# в данном случае мы несколько раз вызываем функцию: \n",
    "# 1) выполняет sum_nums(50.5, 20) \n",
    "# 2) выполняет sum_nums(<значение, получанное из sum_nums(50.5, 20)> значния 30)\n",
    "# 3) выводит ответ"
   ]
  },
  {
   "cell_type": "markdown",
   "id": "d7089c3b",
   "metadata": {},
   "source": [
    "### 10) Выражения"
   ]
  },
  {
   "cell_type": "markdown",
   "id": "97349ab2",
   "metadata": {},
   "source": [
    "Результатом выражения является значение.\n",
    "В выражениях находится 1 или несколько операторов (+, or, in...).\n",
    "Результат выражения можно использовать в вызове ф-ии либо чтобы присовить результат другой перменной."
   ]
  },
  {
   "cell_type": "code",
   "execution_count": null,
   "id": "ef913fe2",
   "metadata": {},
   "outputs": [],
   "source": [
    "5 + 3 # Сумма значений"
   ]
  },
  {
   "cell_type": "code",
   "execution_count": null,
   "id": "72231a5d",
   "metadata": {},
   "outputs": [],
   "source": [
    "a = 3\n",
    "b = 1\n",
    "\n",
    "a > b # True или False"
   ]
  },
  {
   "cell_type": "code",
   "execution_count": null,
   "id": "c4b0ce7c",
   "metadata": {},
   "outputs": [],
   "source": [
    "'Hello ' + 'World' # 'Hello World'"
   ]
  },
  {
   "cell_type": "code",
   "execution_count": null,
   "id": "c2233fff",
   "metadata": {},
   "outputs": [],
   "source": [
    "def my_func(a, b):\n",
    "\tsum = a + b\n",
    "\tprint(sum)\n",
    "\n",
    "my_func(10, 5) # Результат ф-ии. Вызов ф-ии это и есть выражение"
   ]
  },
  {
   "cell_type": "markdown",
   "id": "f71d2bcf",
   "metadata": {},
   "source": [
    "**Инструкции** "
   ]
  },
  {
   "cell_type": "markdown",
   "id": "00cf4801",
   "metadata": {},
   "source": [
    "Инструкции выполняет действие."
   ]
  },
  {
   "cell_type": "code",
   "execution_count": null,
   "id": "8f66dc15",
   "metadata": {},
   "outputs": [],
   "source": [
    "my_name = 'Artyom' # Присвоение значения\n",
    "\n",
    "# Условная инструкция\n",
    "if my_name:\n",
    "    print(my_name)\n",
    "\n",
    "# Импортирование модуля\n",
    "import datetime\n",
    "\n",
    "print(datetime.MAXYEAR)"
   ]
  },
  {
   "cell_type": "code",
   "execution_count": null,
   "id": "4170ac0b",
   "metadata": {},
   "outputs": [],
   "source": [
    "import datetime\n",
    "\n",
    "def my_datetyme():\n",
    "    date = datetime.MAXYEAR\n",
    "    return date\n",
    "\n",
    "my_datetyme()"
   ]
  },
  {
   "cell_type": "markdown",
   "id": "ba05f0ef",
   "metadata": {},
   "source": [
    "### 11) Переменные"
   ]
  },
  {
   "cell_type": "markdown",
   "id": "f3abb377",
   "metadata": {},
   "source": [
    "Переменные дают возможность повторного доступа к значениям.\n",
    "\n",
    "Имена в Python:\n",
    "1) `snake_case` - Переменные, функции, методы, модули (все символы в нижнем регистре и слова разделяются знаком _ ) Чаще всего используется\n",
    "\n",
    "2) `PascalCase` - Классы (слитно, но каждоеслово начинается с большой буквы)\n",
    "\n",
    "3) `my-package` - Пакеты (все символы в нижнем регистре и слова разделяются знаком - )\n",
    "\n",
    "4) `DB_PASSWORD` - Константы (все символы в верхнем регистре, слова разделяются знаком - ) применяются для паролей, ip адресса удаленных/локальных серверов, номера портов и т.д.\n",
    "\n",
    "Названия переменных должны быть понятными!"
   ]
  },
  {
   "cell_type": "markdown",
   "id": "b9ceeac8",
   "metadata": {},
   "source": [
    "**Объявление перменных и присвоение им значение.**"
   ]
  },
  {
   "cell_type": "markdown",
   "id": "6ac5b888",
   "metadata": {},
   "source": [
    "Обявление и присвоение."
   ]
  },
  {
   "cell_type": "code",
   "execution_count": null,
   "id": "5f9318ff",
   "metadata": {},
   "outputs": [],
   "source": [
    "my_number = 10"
   ]
  },
  {
   "cell_type": "markdown",
   "id": "a1e781ff",
   "metadata": {},
   "source": [
    "Python - язык с динамической типизацией."
   ]
  },
  {
   "cell_type": "code",
   "execution_count": null,
   "id": "60bf5f90",
   "metadata": {},
   "outputs": [],
   "source": [
    "my_variable = 10\n",
    "\n",
    "my_variable = 'Artyom'\n",
    "\n",
    "my_variable = True"
   ]
  },
  {
   "cell_type": "markdown",
   "id": "6ab14bfd",
   "metadata": {},
   "source": [
    "Тип перменной определяется типом присвоенного значения."
   ]
  },
  {
   "cell_type": "code",
   "execution_count": null,
   "id": "520434f9",
   "metadata": {},
   "outputs": [],
   "source": [
    "# Вывод значений перменных в терминале\n",
    "my_number = 10\n",
    "print(my_number)\n",
    "\n",
    "my_boolean = True\n",
    "print(my_boolean)"
   ]
  },
  {
   "cell_type": "code",
   "execution_count": null,
   "id": "3fc086d9",
   "metadata": {},
   "outputs": [],
   "source": [
    "my_number = 10     # Целое число (int)\n",
    "my_string = 'abc'  # Строка (str)"
   ]
  },
  {
   "cell_type": "markdown",
   "id": "635752d6",
   "metadata": {},
   "source": [
    "### 12) Динамическая типизация."
   ]
  },
  {
   "cell_type": "markdown",
   "id": "28261853",
   "metadata": {},
   "source": [
    "ЯП делятся на 2 тип:\n",
    "**Статическая** и **Динамическая**.\n",
    "\n",
    "Python является Данамический типизируемым Языком программирования"
   ]
  },
  {
   "cell_type": "code",
   "execution_count": null,
   "id": "b765223b",
   "metadata": {},
   "outputs": [],
   "source": [
    "# Пример работы динамический типизации\n",
    "a = 10\n",
    "\n",
    "a = True\n",
    "\n",
    "a = 'Artyom'\n",
    "\n",
    "a = None"
   ]
  },
  {
   "cell_type": "code",
   "execution_count": null,
   "id": "4092d133",
   "metadata": {},
   "outputs": [],
   "source": [
    "def print_name(name):\n",
    "    print(name)\n",
    "\n",
    "print_name('Artyom')\n",
    "\n",
    "print_name = 15\n",
    "\n",
    "print_name('Arina') # ошибка"
   ]
  },
  {
   "cell_type": "markdown",
   "id": "ae43ba0d",
   "metadata": {},
   "source": [
    "Правила работы с перменными\n",
    "\n",
    "1) Всегда выбирать осмысленные названия\n",
    "2) В названиях перменных использовать имя существительное, например name, comments, new_photos. (Имя переменной должно отвечать на вопрос \"Что содержит?\").\n",
    "3) Навзание функций и методов начинать с главгола, например get_data, create_request, merge_names (Имя функции должно отвечать на вопрос \"Что выполняет или фозвращает?\")"
   ]
  },
  {
   "cell_type": "markdown",
   "id": "914eb151",
   "metadata": {},
   "source": [
    "### 13) Типы и структуры данных"
   ]
  },
  {
   "cell_type": "markdown",
   "id": "93c9617d",
   "metadata": {},
   "source": [
    "В Python отсутсвуют примитивные типы. \n",
    "В Python существуют изменяемые и неизменяемые объекты."
   ]
  },
  {
   "cell_type": "markdown",
   "id": "0f5fbc10",
   "metadata": {},
   "source": [
    "**Типы неизменяемых объектов:**\n",
    "1) string (строка) - str\n",
    "\n",
    "2) boolean (логический) - bool\n",
    "\n",
    "3) integer (целое число) - int\n",
    "\n",
    "4) float (число с десятичной точкой)\n",
    "\n",
    "5) tuple (кортеж) - tuple\n",
    "\n",
    "6) None (ничто) - NoneType\n",
    "\n",
    "**Типы изменяемых объектов:**\n",
    "1) list (список) -  list\n",
    "\n",
    "2) dictionary (словарь) - dict\n",
    "\n",
    "3) set (набор) - set\n",
    "\n",
    "4) user-defined class (пользовательские классы)"
   ]
  },
  {
   "cell_type": "markdown",
   "id": "e2deb199",
   "metadata": {},
   "source": [
    "### 14) Переменные и объекты"
   ]
  },
  {
   "cell_type": "markdown",
   "id": "430c3524",
   "metadata": {},
   "source": [
    "                    ---------------------------\n",
    "                    |         Память          |\n",
    "                    |    ______               |\n",
    "           my_name--|-->|Объект|              |\n",
    "                    |    ------               |\n",
    "                    |            ______       |\n",
    "     profile_photo--|---------->|Объект|      |\n",
    "                    |            ------       |\n",
    "                    |    ______               |\n",
    "    Other_name------|-->|Объект|              |\n",
    "                    |    ------               |\n",
    "                    ---------------------------"
   ]
  },
  {
   "cell_type": "markdown",
   "id": "e15ed311",
   "metadata": {},
   "source": [
    "При создании значения и присвоения ему переменной создается объект определенного типа (int, str и т.д.).\n",
    "\n",
    "Создается имя переменной, и она содержит только ссылку на объект в памяти.\n",
    "\n",
    "При обращении к переменной происходит переход по ссылке к объекту, который находится в памяти, и далее уже выполняются определенные действия с этим объектом в памяти. => Переменные — это просто ссылки на объекты в памяти.\n",
    "\n",
    "Если мы создаем несколько переменных, например переменная my_name ссылается на один объект, переменная profile_photo ссылается на второй объект, то эти переменные независимы друг от друга, потому что объекты находятся в разных местах памяти и это разные независимые объекты. Точно также можно создать еще одну переменную other_name, которая будет ссылаться на третий объект в памяти.\n",
    "\n",
    "Пока существует переменная — объект сохраняется в памяти.\n",
    "\n",
    "Если, например, my_name присвоить другое значение — создается другой объект, а старый объект через некоторое время будет удален в Python."
   ]
  },
  {
   "cell_type": "markdown",
   "id": "5114d919",
   "metadata": {},
   "source": [
    "**Встроенная функция id**"
   ]
  },
  {
   "cell_type": "markdown",
   "id": "00ab2337",
   "metadata": {},
   "source": [
    "Переменная содержит ссылку на объект.\n",
    "Как же можно узнать какую именно ссылку содержит переменная?"
   ]
  },
  {
   "cell_type": "markdown",
   "id": "e0751c0f",
   "metadata": {},
   "source": [
    "**Получения адресса объекта**\n",
    "\n",
    "Для этого существуюет встроенная функция \n",
    "```python\n",
    "id(my_country)\n",
    "```\n",
    "Эта функция служит для того чтобы по имени переменной получить адресс в памяти на которой ссылается эта перменная и по которому находится определенный объект."
   ]
  },
  {
   "cell_type": "code",
   "execution_count": null,
   "id": "6dffd69f",
   "metadata": {},
   "outputs": [],
   "source": [
    "print(id(my_number))"
   ]
  },
  {
   "cell_type": "markdown",
   "id": "c3ba8f19",
   "metadata": {},
   "source": [
    "В таком случае в терминале мы увидим индефикатор объекта на которую ссылается перменная `my_number` в данном примере"
   ]
  },
  {
   "cell_type": "markdown",
   "id": "55df7b82",
   "metadata": {},
   "source": [
    "Примеры:"
   ]
  },
  {
   "cell_type": "code",
   "execution_count": null,
   "id": "0ba133ae",
   "metadata": {},
   "outputs": [],
   "source": [
    "my_number = 10\n",
    "print(id(my_number))\n",
    "\n",
    "my_string = 'abc'\n",
    "print(id(my_string))"
   ]
  },
  {
   "cell_type": "markdown",
   "id": "96f91024",
   "metadata": {},
   "source": [
    "Переменные могут ссылаться на **один** объект"
   ]
  },
  {
   "cell_type": "markdown",
   "id": "3f045588",
   "metadata": {},
   "source": [
    "```text\n",
    "                  __________________\n",
    "                  |     Память     |\n",
    "                  |                | <-----my_name\n",
    "                  |     ------     |\n",
    "                  |    |Объект|    | <-----new_name\n",
    "                  |     ------     |\n",
    "                  |                | <-----other_name\n",
    "                  __________________\n",
    "```\n",
    "Как это возможно?\n",
    "\n",
    "Как мы помним переменная всего лишь хранит ссылку на объект в памяти, и если мы копируем одну переменную в другую то мы копирутся сама ссылка. Новый объект для этого не создается."
   ]
  },
  {
   "cell_type": "code",
   "execution_count": null,
   "id": "a3f29831",
   "metadata": {},
   "outputs": [],
   "source": [
    "my_number = 10\n",
    "print(id(my_number))\n",
    "\n",
    "other_number = my_number\n",
    "print(id(other_number))"
   ]
  },
  {
   "cell_type": "markdown",
   "id": "9c6e3bbd",
   "metadata": {},
   "source": [
    "Таким образом адресса у этих 2-х перменных будет одинаковы."
   ]
  },
  {
   "cell_type": "markdown",
   "id": "e2b3016a",
   "metadata": {},
   "source": [
    "Практические примеры:"
   ]
  },
  {
   "cell_type": "code",
   "execution_count": null,
   "id": "7ffad1c4",
   "metadata": {},
   "outputs": [],
   "source": [
    "my_name = 'Artyom'\n",
    "\n",
    "print('Name:',my_name, 'id:', id(my_name))\n",
    "\n",
    "my_num = 100\n",
    "\n",
    "print('my_num:', my_num, 'id:', id(my_num))\n",
    "\n",
    "other_num = my_num\n",
    "\n",
    "print('other_num:', other_num, 'id:', id(other_num))"
   ]
  },
  {
   "cell_type": "markdown",
   "id": "905643bd",
   "metadata": {},
   "source": [
    "### 15) Строки `str`"
   ]
  },
  {
   "cell_type": "markdown",
   "id": "6e1ac1c3",
   "metadata": {},
   "source": [
    "Строка - последовательность символов"
   ]
  },
  {
   "cell_type": "markdown",
   "id": "2bd04b66",
   "metadata": {},
   "source": [
    "**Структура и синтаксис:**"
   ]
  },
  {
   "cell_type": "code",
   "execution_count": 119,
   "id": "b6b0e24d",
   "metadata": {},
   "outputs": [
    {
     "name": "stdout",
     "output_type": "stream",
     "text": [
      "Artyom\n"
     ]
    }
   ],
   "source": [
    "my_name = 'Artyom'\n",
    "print(my_name)"
   ]
  },
  {
   "cell_type": "code",
   "execution_count": 120,
   "id": "e50842bc",
   "metadata": {},
   "outputs": [
    {
     "name": "stdout",
     "output_type": "stream",
     "text": [
      "Hello from Python\n"
     ]
    }
   ],
   "source": [
    "greeting = \"Hello from Python\"\n",
    "print(greeting)"
   ]
  },
  {
   "cell_type": "markdown",
   "id": "3a75e1bf",
   "metadata": {},
   "source": [
    "В 1 случае когда мы присваивали текст переменной `my_name` мы использовали `''`, а во 2 случае использовали для переменной `greeting` мы использовали `\"\"`.\n",
    "\n",
    "`''` - одно слово\n",
    "\n",
    "`\"\"` - длинная строка"
   ]
  },
  {
   "cell_type": "markdown",
   "id": "3bca4f7c",
   "metadata": {},
   "source": [
    "**Тип строк:**"
   ]
  },
  {
   "cell_type": "code",
   "execution_count": null,
   "id": "0d37aad0",
   "metadata": {},
   "outputs": [],
   "source": [
    "my_name = 'Artyom'\n",
    "print(my_name)          # Выводит строку\n",
    "\n",
    "print(type(my_name))    # Выводит тип объекта\n",
    "      \n",
    "print(id(my_name))      # Выводит id объекта\n",
    "\n",
    "info_msg = \"\"\"You are \n",
    "learning the easiest \n",
    "programming language - \n",
    "Python!\"\"\"              # Многострочные строки (выводит так, как ты это написал)\n",
    "\n",
    "print(info_msg)"
   ]
  },
  {
   "cell_type": "markdown",
   "id": "9c85f03f",
   "metadata": {},
   "source": [
    "**Практические примеры:**"
   ]
  },
  {
   "cell_type": "code",
   "execution_count": null,
   "id": "d3adae80",
   "metadata": {},
   "outputs": [],
   "source": [
    "# long_str = \"This is a very long string\"\n",
    "\n",
    "long_str = \"\"\"This is a \n",
    "very\n",
    "long string\"\"\" # применяется разбиения строки на несколько.\n",
    "\n",
    "#long_str = \"\"\"This is a \n",
    "#              very\n",
    "#              long string\"\"\" # в выводе будет учитываться отступы\n",
    "\n",
    "print(long_str)\n",
    "\n",
    "print(type(long_str))\n",
    "print(id(long_str))\n",
    "\n",
    "print(type(str)) # встроенный в python класс\n",
    "print(type(int)) # встроенный в python класс"
   ]
  },
  {
   "cell_type": "markdown",
   "id": "6244c68c",
   "metadata": {},
   "source": [
    "**Встроенные функции и строки:**"
   ]
  },
  {
   "cell_type": "code",
   "execution_count": null,
   "id": "2f2e44fe",
   "metadata": {},
   "outputs": [],
   "source": [
    "my_name = 'Artyom'\n",
    "print(len(my_name))     # вернет длинну строки\n",
    "\n",
    "print(my_name[0])       # вернет первый символ из строки\n",
    "\n",
    "print(my_name[3:6])     # вернет с 4 по 6 символ из строки\n",
    "\n",
    "print(my_name[1:])      # вернет с 2 символа до последного символа из строки"
   ]
  },
  {
   "cell_type": "markdown",
   "id": "b9e4e186",
   "metadata": {},
   "source": [
    "**Для строк доступны такие методы:**\n",
    "\n",
    "```python\n",
    "upper()   replace()   count()\n",
    "\n",
    "index()   capitalize()  lower()\n",
    "\n",
    "            ...\n",
    "```\n",
    "Методы, наследуемые всеми экземплярами класса `str`"
   ]
  },
  {
   "cell_type": "markdown",
   "id": "3fd6e926",
   "metadata": {},
   "source": [
    "**Практика - Методы строк:**"
   ]
  },
  {
   "cell_type": "code",
   "execution_count": null,
   "id": "f0563dd2",
   "metadata": {},
   "outputs": [],
   "source": [
    "my_comment = \"This is my short comment\"\n",
    "\n",
    "print(my_comment)                           # выводит строку\n",
    "\n",
    "print(len(my_comment))                      # кол-во символов\n",
    "\n",
    "print(my_comment.replace('short', 'long'))  # заменяет слова short на long\n",
    "\n",
    "print(my_comment)                           # видим, что переменную не затронуло изменение с прошлой строки т.к строки в python неизменяемые\n",
    "\n",
    "print(my_comment.count(' '))                # находит кол-во пробелов в строке my_comment, возвращает число\n",
    "\n",
    "print(my_comment.count(' is'))              # находит кол-во 'is' в строке my_comment, возвращает число (пробел нужен чтобы не тронуло is в слове This)\n",
    "\n",
    "print(my_comment[0])                        # выводит 1 символ в строке\n",
    "\n",
    "print(my_comment[-1])                       # выводит последний символ в строке\n",
    "\n",
    "print(my_comment[-5])                       # выводит 5 символ с конца в строке\n",
    "\n",
    "print(my_comment[2:7])                      # выводит c 3 по 7 символ в строке (нумерация начинается с 0, поэтому вписываем со 2 символа до 7 не включительно)\n",
    "\n",
    "print(my_comment[8:])                       # выводит с индекса 8 до конца строки\n",
    "\n",
    "print(my_comment[:10])                      # выводит строку с индексами от 0 до 9 включительно"
   ]
  },
  {
   "cell_type": "markdown",
   "id": "79352225",
   "metadata": {},
   "source": [
    "### 16) Целые числа int"
   ]
  },
  {
   "cell_type": "markdown",
   "id": "69b34f55",
   "metadata": {},
   "source": []
  }
 ],
 "metadata": {
  "kernelspec": {
   "display_name": "3.11.9",
   "language": "python",
   "name": "python3"
  },
  "language_info": {
   "codemirror_mode": {
    "name": "ipython",
    "version": 3
   },
   "file_extension": ".py",
   "mimetype": "text/x-python",
   "name": "python",
   "nbconvert_exporter": "python",
   "pygments_lexer": "ipython3",
   "version": "3.11.9"
  }
 },
 "nbformat": 4,
 "nbformat_minor": 5
}
